{
 "cells": [
  {
   "cell_type": "code",
   "execution_count": 30,
   "id": "fed3af12-f0bf-41f1-9c33-764ddc2c3fd9",
   "metadata": {},
   "outputs": [],
   "source": [
    "from lxml import etree\n",
    "\n",
    "NAMESPACES = {\"tei\": \"http://www.tei-c.org/ns/1.0\"}"
   ]
  },
  {
   "cell_type": "code",
   "execution_count": 29,
   "id": "38101519-efa4-4c89-a454-21704a8fa143",
   "metadata": {},
   "outputs": [],
   "source": [
    "trachiniae = etree.parse(\"dracor_xml/tlg0011.tlg001.dracor.xml\")"
   ]
  },
  {
   "cell_type": "code",
   "execution_count": 32,
   "id": "a25372f3-b24e-4a20-a24d-a160c61837f7",
   "metadata": {},
   "outputs": [],
   "source": [
    "speakers = trachiniae.xpath(\".//tei:listPerson/person/@id\", namespaces=NAMESPACES)"
   ]
  }
 ],
 "metadata": {
  "kernelspec": {
   "display_name": "Python 3 (ipykernel)",
   "language": "python",
   "name": "python3"
  },
  "language_info": {
   "codemirror_mode": {
    "name": "ipython",
    "version": 3
   },
   "file_extension": ".py",
   "mimetype": "text/x-python",
   "name": "python",
   "nbconvert_exporter": "python",
   "pygments_lexer": "ipython3",
   "version": "3.13.3"
  }
 },
 "nbformat": 4,
 "nbformat_minor": 5
}
