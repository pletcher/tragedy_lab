{
 "cells": [
  {
   "cell_type": "code",
   "execution_count": 1,
   "metadata": {},
   "outputs": [
    {
     "name": "stdout",
     "output_type": "stream",
     "text": [
      "Requirement already satisfied: lxml in ./.venv/lib/python3.12/site-packages (5.3.0)\n",
      "Requirement already satisfied: polars in ./.venv/lib/python3.12/site-packages (1.15.0)\n",
      "\n",
      "\u001b[1m[\u001b[0m\u001b[34;49mnotice\u001b[0m\u001b[1;39;49m]\u001b[0m\u001b[39;49m A new release of pip is available: \u001b[0m\u001b[31;49m24.0\u001b[0m\u001b[39;49m -> \u001b[0m\u001b[32;49m24.3.1\u001b[0m\n",
      "\u001b[1m[\u001b[0m\u001b[34;49mnotice\u001b[0m\u001b[1;39;49m]\u001b[0m\u001b[39;49m To update, run: \u001b[0m\u001b[32;49m/Users/pletcher/code/writing/articles/2024-11-28_tragedy-dfs/.venv/bin/python -m pip install --upgrade pip\u001b[0m\n",
      "Note: you may need to restart the kernel to use updated packages.\n"
     ]
    }
   ],
   "source": [
    "%pip install lxml polars"
   ]
  },
  {
   "cell_type": "code",
   "execution_count": null,
   "metadata": {},
   "outputs": [],
   "source": [
    "import polars as pl\n",
    "\n",
    "df = pl.read_parquet(\"./greek-tragedy-by-line.parquet\").with_columns(\n",
    "    tokens=pl.col(\"text\").str.split(\" \")\n",
    ")\n",
    "df"
   ]
  },
  {
   "cell_type": "code",
   "execution_count": 41,
   "metadata": {},
   "outputs": [
    {
     "name": "stdout",
     "output_type": "stream",
     "text": [
      "shape: (33, 5)\n",
      "┌───────────┬──────────────────────┬─────────┬──────────┬──────────┐\n",
      "│ dramatist ┆ title                ┆ n_types ┆ n_tokens ┆ ttr      │\n",
      "│ ---       ┆ ---                  ┆ ---     ┆ ---      ┆ ---      │\n",
      "│ str       ┆ str                  ┆ u32     ┆ u32      ┆ f64      │\n",
      "╞═══════════╪══════════════════════╪═════════╪══════════╪══════════╡\n",
      "│ Sophocles ┆ Οἰδίπους Τύραννος    ┆ 4465    ┆ 9609     ┆ 0.464669 │\n",
      "│ Sophocles ┆ Οἰδίπους ἐπὶ Κολωνῷ  ┆ 5043    ┆ 10702    ┆ 0.47122  │\n",
      "│ Sophocles ┆ Φιλοκτήτης           ┆ 4295    ┆ 8888     ┆ 0.483236 │\n",
      "│ Sophocles ┆ Ἠλέκτρα              ┆ 4365    ┆ 8744     ┆ 0.499199 │\n",
      "│ Euripides ┆ Ὀρέστης              ┆ 5066    ┆ 9867     ┆ 0.513429 │\n",
      "│ Euripides ┆ Ἑλένη                ┆ 5038    ┆ 9790     ┆ 0.514607 │\n",
      "│ Euripides ┆ Ἰφιγένεια ἐν Αὐλίδι  ┆ 4740    ┆ 9208     ┆ 0.51477  │\n",
      "│ Euripides ┆ Ἴων                  ┆ 4836    ┆ 9224     ┆ 0.524284 │\n",
      "│ Euripides ┆ Μήδεια               ┆ 4163    ┆ 7892     ┆ 0.527496 │\n",
      "│ Euripides ┆ Ἡρακλεῖδαι           ┆ 3265    ┆ 6168     ┆ 0.529345 │\n",
      "│ Sophocles ┆ Αἴας                 ┆ 4217    ┆ 7923     ┆ 0.532248 │\n",
      "│ Euripides ┆ Ἱππόλυτος            ┆ 4326    ┆ 8120     ┆ 0.532759 │\n",
      "│ Euripides ┆ Φοίνισσαι            ┆ 5196    ┆ 9704     ┆ 0.535449 │\n",
      "│ Euripides ┆ Ἰφιγένεια ἐν Ταύροις ┆ 4507    ┆ 8371     ┆ 0.538406 │\n",
      "│ Sophocles ┆ Τραχίνιαι            ┆ 3985    ┆ 7348     ┆ 0.542324 │\n",
      "│ Euripides ┆ Ἄλκηστις             ┆ 3555    ┆ 6542     ┆ 0.543412 │\n",
      "│ Sophocles ┆ Ἀντιγόνη             ┆ 3998    ┆ 7357     ┆ 0.543428 │\n",
      "│ Euripides ┆ Ἀνδρομάχη            ┆ 3931    ┆ 7180     ┆ 0.547493 │\n",
      "│ Euripides ┆ Ἑκάβη                ┆ 3967    ┆ 7199     ┆ 0.551049 │\n",
      "│ Euripides ┆ Ἡρακλῆς              ┆ 4354    ┆ 7844     ┆ 0.555074 │\n",
      "│ Euripides ┆ Ἱκέτιδες             ┆ 3898    ┆ 7021     ┆ 0.555192 │\n",
      "│ Euripides ┆ Ἠλέκτρα              ┆ 4280    ┆ 7671     ┆ 0.557946 │\n",
      "│ Euripides ┆ Βάκχαι               ┆ 4257    ┆ 7549     ┆ 0.563916 │\n",
      "│ Euripides ┆ Τρῳάδες              ┆ 4117    ┆ 7122     ┆ 0.578068 │\n",
      "│ Aeschylus ┆ Ἀγαμέμνων            ┆ 4528    ┆ 7774     ┆ 0.582454 │\n",
      "│ Aeschylus ┆ Χοηφóρoι             ┆ 3104    ┆ 5327     ┆ 0.582692 │\n",
      "│ Aeschylus ┆ Εὐμενίδες            ┆ 2957    ┆ 5067     ┆ 0.58358  │\n",
      "│ Aeschylus ┆ Πέρσαι               ┆ 3194    ┆ 5418     ┆ 0.589516 │\n",
      "│ Euripides ┆ Ῥῆσος                ┆ 3221    ┆ 5454     ┆ 0.590576 │\n",
      "│ Aeschylus ┆ Προμηθεὺς δεσμώτης   ┆ 3399    ┆ 5722     ┆ 0.594023 │\n",
      "│ Aeschylus ┆ Ἑπτὰ ἐπὶ Θήβας       ┆ 3137    ┆ 5191     ┆ 0.604315 │\n",
      "│ Euripides ┆ Κύκλωψ               ┆ 2547    ┆ 4020     ┆ 0.633582 │\n",
      "│ Aeschylus ┆ Ἱκέτιδες             ┆ 2780    ┆ 4359     ┆ 0.637761 │\n",
      "└───────────┴──────────────────────┴─────────┴──────────┴──────────┘\n",
      "shape: (3, 2)\n",
      "┌───────────┬──────────┐\n",
      "│ dramatist ┆ avg_ttr  │\n",
      "│ ---       ┆ ---      │\n",
      "│ str       ┆ f64      │\n",
      "╞═══════════╪══════════╡\n",
      "│ Sophocles ┆ 0.505189 │\n",
      "│ Euripides ┆ 0.547729 │\n",
      "│ Aeschylus ┆ 0.596335 │\n",
      "└───────────┴──────────┘\n"
     ]
    }
   ],
   "source": [
    "with pl.Config(tbl_rows=-1):\n",
    "    res = (\n",
    "        df.filter(pl.col(\"title\") != \"Ichneutae\")\n",
    "        .group_by(\"dramatist\", \"title\")\n",
    "        .agg(pl.col(\"tokens\").explode())\n",
    "        .select(\n",
    "            \"dramatist\",\n",
    "            \"title\",\n",
    "            n_types=pl.col(\"tokens\").list.n_unique(),\n",
    "            n_tokens=pl.col(\"tokens\").list.len(),\n",
    "            ttr=(pl.col(\"tokens\").list.n_unique() / pl.col(\"tokens\").list.len()),\n",
    "        )\n",
    "        .sort(\"ttr\")\n",
    "    )\n",
    "\n",
    "    print(res)\n",
    "\n",
    "    avgs = (\n",
    "        res.group_by(\"dramatist\")\n",
    "        .agg(pl.col(\"ttr\").mean().alias(\"avg_ttr\"))\n",
    "        .select(\"dramatist\", \"avg_ttr\")\n",
    "        .sort(\"avg_ttr\")\n",
    "    )\n",
    "\n",
    "    print(avgs)"
   ]
  }
 ],
 "metadata": {
  "kernelspec": {
   "display_name": ".venv",
   "language": "python",
   "name": "python3"
  },
  "language_info": {
   "codemirror_mode": {
    "name": "ipython",
    "version": 3
   },
   "file_extension": ".py",
   "mimetype": "text/x-python",
   "name": "python",
   "nbconvert_exporter": "python",
   "pygments_lexer": "ipython3",
   "version": "3.12.7"
  }
 },
 "nbformat": 4,
 "nbformat_minor": 2
}
