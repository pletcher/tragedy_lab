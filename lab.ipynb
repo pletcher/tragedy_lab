{
 "cells": [
  {
   "cell_type": "code",
   "execution_count": 1,
   "metadata": {},
   "outputs": [
    {
     "name": "stdout",
     "output_type": "stream",
     "text": [
      "Requirement already satisfied: lxml in ./.venv/lib/python3.12/site-packages (5.3.0)\n",
      "Requirement already satisfied: polars in ./.venv/lib/python3.12/site-packages (1.15.0)\n",
      "\n",
      "\u001b[1m[\u001b[0m\u001b[34;49mnotice\u001b[0m\u001b[1;39;49m]\u001b[0m\u001b[39;49m A new release of pip is available: \u001b[0m\u001b[31;49m24.0\u001b[0m\u001b[39;49m -> \u001b[0m\u001b[32;49m24.3.1\u001b[0m\n",
      "\u001b[1m[\u001b[0m\u001b[34;49mnotice\u001b[0m\u001b[1;39;49m]\u001b[0m\u001b[39;49m To update, run: \u001b[0m\u001b[32;49m/Users/pletcher/code/writing/articles/2024-11-28_tragedy-dfs/.venv/bin/python -m pip install --upgrade pip\u001b[0m\n",
      "Note: you may need to restart the kernel to use updated packages.\n"
     ]
    }
   ],
   "source": [
    "%pip install lxml polars"
   ]
  },
  {
   "cell_type": "code",
   "execution_count": 4,
   "metadata": {},
   "outputs": [],
   "source": [
    "import polars as pl\n",
    "\n",
    "pl.Config.set_tbl_rows(100)\n",
    "\n",
    "df = pl.read_parquet(\"./greek-tragedy-by-line_with-gender.parquet\")"
   ]
  },
  {
   "cell_type": "code",
   "execution_count": 8,
   "metadata": {},
   "outputs": [],
   "source": [
    "def ttr_by_play():\n",
    "    with pl.Config(tbl_rows=-1):\n",
    "        res = (\n",
    "            df.group_by(\"dramatist\", \"title\")\n",
    "            .agg(pl.col(\"tokens\").explode())\n",
    "            .select(\n",
    "                \"dramatist\",\n",
    "                \"title\",\n",
    "                n_types=pl.col(\"tokens\").list.n_unique(),\n",
    "                n_tokens=pl.col(\"tokens\").list.len(),\n",
    "                ttr=(pl.col(\"tokens\").list.n_unique() / pl.col(\"tokens\").list.len()),\n",
    "            )\n",
    "            .sort(\"ttr\")\n",
    "        )\n",
    "\n",
    "        return res\n",
    "    \n",
    "def ttr_by_dramatist():\n",
    "    res = ttr_by_play()\n",
    "    avgs = (\n",
    "        res.group_by(\"dramatist\")\n",
    "        .agg(pl.col(\"ttr\").mean().alias(\"avg_ttr\"))\n",
    "        .select(\"dramatist\", \"avg_ttr\")\n",
    "        .sort(\"avg_ttr\")\n",
    "    )\n",
    "\n",
    "    return avgs"
   ]
  },
  {
   "cell_type": "code",
   "execution_count": 26,
   "metadata": {},
   "outputs": [],
   "source": [
    "def write_speakers_by_dramatist_and_play():\n",
    "    drama_speakers = (\n",
    "        df.select(\"dramatist\", \"title\", \"speaker\")\n",
    "        .group_by(\"dramatist\", \"title\")\n",
    "        .agg(pl.col(\"speaker\").unique())\n",
    "    )\n",
    "\n",
    "    with open(\"speakers.csv\", \"w+\") as f:\n",
    "        f.write(\"dramatist,title,speaker,gender\\n\")\n",
    "\n",
    "        for dramatist, title, speakers in drama_speakers.iter_rows():\n",
    "            for speaker in speakers:\n",
    "                f.write(f\"{dramatist},{title},{speaker},\\n\")"
   ]
  },
  {
   "cell_type": "markdown",
   "metadata": {},
   "source": [
    "## Characters by Dramatist and Gender\n",
    "\n",
    "What is the representation of male, female, and epicene characters across tragedians?\n"
   ]
  },
  {
   "cell_type": "code",
   "execution_count": 47,
   "metadata": {},
   "outputs": [],
   "source": [
    "def n_lines_by_dramatist_and_gender(dramatist: str):\n",
    "    rows = (\n",
    "        df.filter(pl.col(\"dramatist\") == dramatist)\n",
    "        .group_by(\"title\")\n",
    "        .agg(\n",
    "            (pl.col(\"gender\") == \"m\").sum().alias(\"# lines male\"),\n",
    "            (pl.col(\"gender\") == \"f\").sum().alias(\"# lines female\"),\n",
    "            (pl.col(\"gender\") == \"x\").sum().alias(\"# lines epicene\"),\n",
    "        )\n",
    "        .with_columns(\n",
    "            (\n",
    "                pl.col(\"# lines male\")\n",
    "                / (\n",
    "                    pl.col(\"# lines male\")\n",
    "                    + pl.col(\"# lines female\")\n",
    "                    + (pl.col(\"# lines epicene\"))\n",
    "                )\n",
    "            ).alias(\"pct lines male\"),\n",
    "            (\n",
    "                pl.col(\"# lines female\")\n",
    "                / (\n",
    "                    pl.col(\"# lines male\")\n",
    "                    + pl.col(\"# lines female\")\n",
    "                    + (pl.col(\"# lines epicene\"))\n",
    "                )\n",
    "            ).alias(\"pct lines female\"),\n",
    "            (\n",
    "                pl.col(\"# lines epicene\")\n",
    "                / (\n",
    "                    pl.col(\"# lines male\")\n",
    "                    + pl.col(\"# lines female\")\n",
    "                    + (pl.col(\"# lines epicene\"))\n",
    "                )\n",
    "            ).alias(\"pct lines epicene\"),\n",
    "        )\n",
    "    ).sort(\"pct lines female\")\n",
    "    return rows"
   ]
  },
  {
   "cell_type": "code",
   "execution_count": 76,
   "metadata": {},
   "outputs": [],
   "source": [
    "def n_personae_by_dramatist_and_gender(dramatist: str):\n",
    "    rows = (\n",
    "        df.filter(pl.col(\"dramatist\") == dramatist)\n",
    "        .unique([\"title\", \"speaker\"])\n",
    "        .group_by(\"title\")\n",
    "        .agg(\n",
    "            (pl.col(\"gender\") == \"m\").sum().alias(\"# personae male\"),\n",
    "            (pl.col(\"gender\") == \"f\").sum().alias(\"# personae female\"),\n",
    "            (pl.col(\"gender\") == \"x\").sum().alias(\"# personae epicene\"),\n",
    "        )\n",
    "        .with_columns(\n",
    "            (\n",
    "                pl.col(\"# personae male\")\n",
    "                / (\n",
    "                    pl.col(\"# personae male\")\n",
    "                    + pl.col(\"# personae female\")\n",
    "                    + (pl.col(\"# personae epicene\"))\n",
    "                )\n",
    "            ).alias(\"pct personae male\"),\n",
    "            (\n",
    "                pl.col(\"# personae female\")\n",
    "                / (\n",
    "                    pl.col(\"# personae male\")\n",
    "                    + pl.col(\"# personae female\")\n",
    "                    + (pl.col(\"# personae epicene\"))\n",
    "                )\n",
    "            ).alias(\"pct personae female\"),\n",
    "            (\n",
    "                pl.col(\"# personae epicene\")\n",
    "                / (\n",
    "                    pl.col(\"# personae male\")\n",
    "                    + pl.col(\"# personae female\")\n",
    "                    + (pl.col(\"# personae epicene\"))\n",
    "                )\n",
    "            ).alias(\"pct personae epicene\"),\n",
    "        )\n",
    "    ).sort(\"pct personae female\")\n",
    "\n",
    "    return rows"
   ]
  },
  {
   "cell_type": "markdown",
   "metadata": {},
   "source": [
    "\n",
    "### Aeschylus"
   ]
  },
  {
   "cell_type": "code",
   "execution_count": 58,
   "metadata": {},
   "outputs": [
    {
     "name": "stdout",
     "output_type": "stream",
     "text": [
      "shape: (7, 7)\n",
      "┌────────────────────┬─────────┬─────────┬─────────┬────────────────┬───────────┬───────────┐\n",
      "│ title              ┆ # lines ┆ # lines ┆ # lines ┆ pct lines male ┆ pct lines ┆ pct lines │\n",
      "│ ---                ┆ male    ┆ female  ┆ epicene ┆ ---            ┆ female    ┆ epicene   │\n",
      "│ str                ┆ ---     ┆ ---     ┆ ---     ┆ f64            ┆ ---       ┆ ---       │\n",
      "│                    ┆ u32     ┆ u32     ┆ u32     ┆                ┆ f64       ┆ f64       │\n",
      "╞════════════════════╪═════════╪═════════╪═════════╪════════════════╪═══════════╪═══════════╡\n",
      "│ Πέρσαι             ┆ 887     ┆ 158     ┆ 0       ┆ 0.848804       ┆ 0.151196  ┆ 0.0       │\n",
      "│ Προμηθεὺς δεσμώτης ┆ 764     ┆ 319     ┆ 0       ┆ 0.705448       ┆ 0.294552  ┆ 0.0       │\n",
      "│ Ἀγαμέμνων          ┆ 1054    ┆ 511     ┆ 0       ┆ 0.673482       ┆ 0.326518  ┆ 0.0       │\n",
      "│ Ἑπτὰ ἐπὶ Θήβας     ┆ 472     ┆ 587     ┆ 0       ┆ 0.445703       ┆ 0.554297  ┆ 0.0       │\n",
      "│ Ἱκέτιδες           ┆ 371     ┆ 572     ┆ 0       ┆ 0.393425       ┆ 0.606575  ┆ 0.0       │\n",
      "│ Χοηφóρoι           ┆ 341     ┆ 704     ┆ 0       ┆ 0.326316       ┆ 0.673684  ┆ 0.0       │\n",
      "│ Εὐμενίδες          ┆ 249     ┆ 785     ┆ 0       ┆ 0.240812       ┆ 0.759188  ┆ 0.0       │\n",
      "└────────────────────┴─────────┴─────────┴─────────┴────────────────┴───────────┴───────────┘\n"
     ]
    }
   ],
   "source": [
    "aeschylus_lines = n_lines_by_dramatist_and_gender(\"Aeschylus\")\n",
    "\n",
    "print(aeschylus_lines)\n"
   ]
  },
  {
   "cell_type": "code",
   "execution_count": 77,
   "metadata": {},
   "outputs": [
    {
     "name": "stdout",
     "output_type": "stream",
     "text": [
      "shape: (7, 7)\n",
      "┌───────────┬────────────┬────────────┬────────────┬──────────┬──────────┬──────────────────────┐\n",
      "│ title     ┆ # personae ┆ # personae ┆ # personae ┆ pct      ┆ pct      ┆ pct personae epicene │\n",
      "│ ---       ┆ male       ┆ female     ┆ epicene    ┆ personae ┆ personae ┆ ---                  │\n",
      "│ str       ┆ ---        ┆ ---        ┆ ---        ┆ male     ┆ female   ┆ f64                  │\n",
      "│           ┆ u32        ┆ u32        ┆ u32        ┆ ---      ┆ ---      ┆                      │\n",
      "│           ┆            ┆            ┆            ┆ f64      ┆ f64      ┆                      │\n",
      "╞═══════════╪════════════╪════════════╪════════════╪══════════╪══════════╪══════════════════════╡\n",
      "│ Πέρσαι    ┆ 5          ┆ 1          ┆ 0          ┆ 0.833333 ┆ 0.166667 ┆ 0.0                  │\n",
      "│ Ἱκέτιδες  ┆ 4          ┆ 1          ┆ 0          ┆ 0.8      ┆ 0.2      ┆ 0.0                  │\n",
      "│ Ἀγαμέμνων ┆ 5          ┆ 2          ┆ 0          ┆ 0.714286 ┆ 0.285714 ┆ 0.0                  │\n",
      "│ Προμηθεὺς ┆ 5          ┆ 2          ┆ 0          ┆ 0.714286 ┆ 0.285714 ┆ 0.0                  │\n",
      "│ δεσμώτης  ┆            ┆            ┆            ┆          ┆          ┆                      │\n",
      "│ Ἑπτὰ ἐπὶ  ┆ 3          ┆ 5          ┆ 0          ┆ 0.375    ┆ 0.625    ┆ 0.0                  │\n",
      "│ Θήβας     ┆            ┆            ┆            ┆          ┆          ┆                      │\n",
      "│ Χοηφóρoι  ┆ 3          ┆ 5          ┆ 0          ┆ 0.375    ┆ 0.625    ┆ 0.0                  │\n",
      "│ Εὐμενίδες ┆ 3          ┆ 5          ┆ 0          ┆ 0.375    ┆ 0.625    ┆ 0.0                  │\n",
      "└───────────┴────────────┴────────────┴────────────┴──────────┴──────────┴──────────────────────┘\n"
     ]
    }
   ],
   "source": [
    "aeschylus_personae = n_personae_by_dramatist_and_gender(\"Aeschylus\")\n",
    "\n",
    "print(aeschylus_personae)"
   ]
  },
  {
   "cell_type": "markdown",
   "metadata": {},
   "source": [
    "### Sophocles"
   ]
  },
  {
   "cell_type": "code",
   "execution_count": 78,
   "metadata": {},
   "outputs": [
    {
     "name": "stdout",
     "output_type": "stream",
     "text": [
      "shape: (8, 7)\n",
      "┌─────────────────────┬─────────┬─────────┬─────────┬────────────────┬───────────┬───────────┐\n",
      "│ title               ┆ # lines ┆ # lines ┆ # lines ┆ pct lines male ┆ pct lines ┆ pct lines │\n",
      "│ ---                 ┆ male    ┆ female  ┆ epicene ┆ ---            ┆ female    ┆ epicene   │\n",
      "│ str                 ┆ ---     ┆ ---     ┆ ---     ┆ f64            ┆ ---       ┆ ---       │\n",
      "│                     ┆ u32     ┆ u32     ┆ u32     ┆                ┆ f64       ┆ f64       │\n",
      "╞═════════════════════╪═════════╪═════════╪═════════╪════════════════╪═══════════╪═══════════╡\n",
      "│ Φιλοκτήτης          ┆ 1465    ┆ 0       ┆ 0       ┆ 1.0            ┆ 0.0       ┆ 0.0       │\n",
      "│ Οἰδίπους Τύραννος   ┆ 1361    ┆ 121     ┆ 0       ┆ 0.918354       ┆ 0.081646  ┆ 0.0       │\n",
      "│ Οἰδίπους ἐπὶ Κολωνῷ ┆ 1548    ┆ 267     ┆ 0       ┆ 0.852893       ┆ 0.147107  ┆ 0.0       │\n",
      "│ Ἀντιγόνη            ┆ 994     ┆ 263     ┆ 0       ┆ 0.790772       ┆ 0.209228  ┆ 0.0       │\n",
      "│ Αἴας                ┆ 1086    ┆ 288     ┆ 0       ┆ 0.790393       ┆ 0.209607  ┆ 0.0       │\n",
      "│ Ichneutae           ┆ 295     ┆ 107     ┆ 0       ┆ 0.733831       ┆ 0.266169  ┆ 0.0       │\n",
      "│ Τραχίνιαι           ┆ 576     ┆ 666     ┆ 0       ┆ 0.463768       ┆ 0.536232  ┆ 0.0       │\n",
      "│ Ἠλέκτρα             ┆ 354     ┆ 1132    ┆ 0       ┆ 0.238223       ┆ 0.761777  ┆ 0.0       │\n",
      "└─────────────────────┴─────────┴─────────┴─────────┴────────────────┴───────────┴───────────┘\n"
     ]
    }
   ],
   "source": [
    "sophocles_lines = n_lines_by_dramatist_and_gender(\"Sophocles\")\n",
    "\n",
    "print(sophocles_lines)"
   ]
  },
  {
   "cell_type": "code",
   "execution_count": 79,
   "metadata": {},
   "outputs": [
    {
     "name": "stdout",
     "output_type": "stream",
     "text": [
      "shape: (8, 7)\n",
      "┌───────────────┬───────────────┬──────────────┬──────────────┬──────────┬──────────┬──────────────┐\n",
      "│ title         ┆ # personae    ┆ # personae   ┆ # personae   ┆ pct      ┆ pct      ┆ pct personae │\n",
      "│ ---           ┆ male          ┆ female       ┆ epicene      ┆ personae ┆ personae ┆ epicene      │\n",
      "│ str           ┆ ---           ┆ ---          ┆ ---          ┆ male     ┆ female   ┆ ---          │\n",
      "│               ┆ u32           ┆ u32          ┆ u32          ┆ ---      ┆ ---      ┆ f64          │\n",
      "│               ┆               ┆              ┆              ┆ f64      ┆ f64      ┆              │\n",
      "╞═══════════════╪═══════════════╪══════════════╪══════════════╪══════════╪══════════╪══════════════╡\n",
      "│ Φιλοκτήτης    ┆ 6             ┆ 0            ┆ 0            ┆ 1.0      ┆ 0.0      ┆ 0.0          │\n",
      "│ Οἰδίπους      ┆ 8             ┆ 1            ┆ 0            ┆ 0.888889 ┆ 0.111111 ┆ 0.0          │\n",
      "│ Τύραννος      ┆               ┆              ┆              ┆          ┆          ┆              │\n",
      "│ Αἴας          ┆ 9             ┆ 2            ┆ 0            ┆ 0.818182 ┆ 0.181818 ┆ 0.0          │\n",
      "│ Ichneutae     ┆ 7             ┆ 2            ┆ 0            ┆ 0.777778 ┆ 0.222222 ┆ 0.0          │\n",
      "│ Οἰδίπους ἐπὶ  ┆ 7             ┆ 2            ┆ 0            ┆ 0.777778 ┆ 0.222222 ┆ 0.0          │\n",
      "│ Κολωνῷ        ┆               ┆              ┆              ┆          ┆          ┆              │\n",
      "│ Ἀντιγόνη      ┆ 7             ┆ 3            ┆ 0            ┆ 0.7      ┆ 0.3      ┆ 0.0          │\n",
      "│ Ἠλέκτρα       ┆ 3             ┆ 4            ┆ 0            ┆ 0.428571 ┆ 0.571429 ┆ 0.0          │\n",
      "│ Τραχίνιαι     ┆ 5             ┆ 7            ┆ 0            ┆ 0.416667 ┆ 0.583333 ┆ 0.0          │\n",
      "└───────────────┴───────────────┴──────────────┴──────────────┴──────────┴──────────┴──────────────┘\n"
     ]
    }
   ],
   "source": [
    "sophocles_personae = n_personae_by_dramatist_and_gender(\"Sophocles\")\n",
    "\n",
    "print(sophocles_personae)"
   ]
  },
  {
   "cell_type": "markdown",
   "metadata": {},
   "source": [
    "### Euripides"
   ]
  },
  {
   "cell_type": "code",
   "execution_count": 83,
   "metadata": {},
   "outputs": [
    {
     "name": "stdout",
     "output_type": "stream",
     "text": [
      "shape: (19, 7)\n",
      "┌──────────────────────┬─────────┬─────────┬─────────┬────────────────┬───────────┬───────────┐\n",
      "│ title                ┆ # lines ┆ # lines ┆ # lines ┆ pct lines male ┆ pct lines ┆ pct lines │\n",
      "│ ---                  ┆ male    ┆ female  ┆ epicene ┆ ---            ┆ female    ┆ epicene   │\n",
      "│ str                  ┆ ---     ┆ ---     ┆ ---     ┆ f64            ┆ ---       ┆ ---       │\n",
      "│                      ┆ u32     ┆ u32     ┆ u32     ┆                ┆ f64       ┆ f64       │\n",
      "╞══════════════════════╪═════════╪═════════╪═════════╪════════════════╪═══════════╪═══════════╡\n",
      "│ Κύκλωψ               ┆ 730     ┆ 0       ┆ 0       ┆ 1.0            ┆ 0.0       ┆ 0.0       │\n",
      "│ Ἄλκηστις             ┆ 1022    ┆ 143     ┆ 0       ┆ 0.877253       ┆ 0.122747  ┆ 0.0       │\n",
      "│ Ῥῆσος                ┆ 869     ┆ 132     ┆ 0       ┆ 0.868132       ┆ 0.131868  ┆ 0.0       │\n",
      "│ Ἡρακλῆς              ┆ 1243    ┆ 200     ┆ 0       ┆ 0.8614         ┆ 0.1386    ┆ 0.0       │\n",
      "│ Ἡρακλεῖδαι           ┆ 875     ┆ 171     ┆ 0       ┆ 0.83652        ┆ 0.16348   ┆ 0.0       │\n",
      "│ Ὀρέστης              ┆ 1143    ┆ 587     ┆ 0       ┆ 0.660694       ┆ 0.339306  ┆ 0.0       │\n",
      "│ Βάκχαι               ┆ 909     ┆ 507     ┆ 0       ┆ 0.641949       ┆ 0.358051  ┆ 0.0       │\n",
      "│ Ἱκέτιδες             ┆ 726     ┆ 454     ┆ 55      ┆ 0.587854       ┆ 0.367611  ┆ 0.044534  │\n",
      "│ Φοίνισσαι            ┆ 980     ┆ 798     ┆ 0       ┆ 0.551181       ┆ 0.448819  ┆ 0.0       │\n",
      "│ Ἴων                  ┆ 909     ┆ 765     ┆ 0       ┆ 0.543011       ┆ 0.456989  ┆ 0.0       │\n",
      "│ Ἰφιγένεια ἐν Αὐλίδι  ┆ 776     ┆ 860     ┆ 0       ┆ 0.474328       ┆ 0.525672  ┆ 0.0       │\n",
      "│ Ἑλένη                ┆ 751     ┆ 959     ┆ 0       ┆ 0.439181       ┆ 0.560819  ┆ 0.0       │\n",
      "│ Ἰφιγένεια ἐν Ταύροις ┆ 650     ┆ 839     ┆ 0       ┆ 0.436535       ┆ 0.563465  ┆ 0.0       │\n",
      "│ Ἠλέκτρα              ┆ 582     ┆ 772     ┆ 0       ┆ 0.429838       ┆ 0.570162  ┆ 0.0       │\n",
      "│ Ἱππόλυτος            ┆ 599     ┆ 841     ┆ 0       ┆ 0.415972       ┆ 0.584028  ┆ 0.0       │\n",
      "│ Ἑκάβη                ┆ 461     ┆ 796     ┆ 0       ┆ 0.366746       ┆ 0.633254  ┆ 0.0       │\n",
      "│ Μήδεια               ┆ 427     ┆ 962     ┆ 0       ┆ 0.307415       ┆ 0.692585  ┆ 0.0       │\n",
      "│ Ἀνδρομάχη            ┆ 345     ┆ 906     ┆ 0       ┆ 0.275779       ┆ 0.724221  ┆ 0.0       │\n",
      "│ Τρῳάδες              ┆ 242     ┆ 1095    ┆ 0       ┆ 0.181002       ┆ 0.818998  ┆ 0.0       │\n",
      "└──────────────────────┴─────────┴─────────┴─────────┴────────────────┴───────────┴───────────┘\n"
     ]
    }
   ],
   "source": [
    "euripides_lines = n_lines_by_dramatist_and_gender(\"Euripides\")\n",
    "\n",
    "print(euripides_lines)"
   ]
  },
  {
   "cell_type": "code",
   "execution_count": 82,
   "metadata": {},
   "outputs": [
    {
     "name": "stdout",
     "output_type": "stream",
     "text": [
      "shape: (19, 7)\n",
      "┌───────────────┬───────────────┬──────────────┬──────────────┬──────────┬──────────┬──────────────┐\n",
      "│ title         ┆ # personae    ┆ # personae   ┆ # personae   ┆ pct      ┆ pct      ┆ pct personae │\n",
      "│ ---           ┆ male          ┆ female       ┆ epicene      ┆ personae ┆ personae ┆ epicene      │\n",
      "│ str           ┆ ---           ┆ ---          ┆ ---          ┆ male     ┆ female   ┆ ---          │\n",
      "│               ┆ u32           ┆ u32          ┆ u32          ┆ ---      ┆ ---      ┆ f64          │\n",
      "│               ┆               ┆              ┆              ┆ f64      ┆ f64      ┆              │\n",
      "╞═══════════════╪═══════════════╪══════════════╪══════════════╪══════════╪══════════╪══════════════╡\n",
      "│ Κύκλωψ        ┆ 9             ┆ 0            ┆ 0            ┆ 1.0      ┆ 0.0      ┆ 0.0          │\n",
      "│ Ῥῆσος         ┆ 11            ┆ 2            ┆ 0            ┆ 0.846154 ┆ 0.153846 ┆ 0.0          │\n",
      "│ Ἄλκηστις      ┆ 8             ┆ 2            ┆ 0            ┆ 0.8      ┆ 0.2      ┆ 0.0          │\n",
      "│ Βάκχαι        ┆ 8             ┆ 2            ┆ 0            ┆ 0.8      ┆ 0.2      ┆ 0.0          │\n",
      "│ Ἡρακλεῖδαι    ┆ 7             ┆ 2            ┆ 0            ┆ 0.777778 ┆ 0.222222 ┆ 0.0          │\n",
      "│ Φοίνισσαι     ┆ 8             ┆ 3            ┆ 0            ┆ 0.727273 ┆ 0.272727 ┆ 0.0          │\n",
      "│ Ἰφιγένεια ἐν  ┆ 7             ┆ 3            ┆ 0            ┆ 0.7      ┆ 0.3      ┆ 0.0          │\n",
      "│ Αὐλίδι        ┆               ┆              ┆              ┆          ┆          ┆              │\n",
      "│ Ἡρακλῆς       ┆ 6             ┆ 3            ┆ 0            ┆ 0.666667 ┆ 0.333333 ┆ 0.0          │\n",
      "│ Μήδεια        ┆ 6             ┆ 3            ┆ 0            ┆ 0.666667 ┆ 0.333333 ┆ 0.0          │\n",
      "│ Ἠλέκτρα       ┆ 5             ┆ 3            ┆ 0            ┆ 0.625    ┆ 0.375    ┆ 0.0          │\n",
      "│ Ἰφιγένεια ἐν  ┆ 5             ┆ 3            ┆ 0            ┆ 0.625    ┆ 0.375    ┆ 0.0          │\n",
      "│ Ταύροις       ┆               ┆              ┆              ┆          ┆          ┆              │\n",
      "│ Ἱκέτιδες      ┆ 5             ┆ 4            ┆ 1            ┆ 0.5      ┆ 0.4      ┆ 0.1          │\n",
      "│ Ἑλένη         ┆ 6             ┆ 4            ┆ 0            ┆ 0.6      ┆ 0.4      ┆ 0.0          │\n",
      "│ Ὀρέστης       ┆ 7             ┆ 5            ┆ 0            ┆ 0.583333 ┆ 0.416667 ┆ 0.0          │\n",
      "│ Ἴων           ┆ 5             ┆ 4            ┆ 0            ┆ 0.555556 ┆ 0.444444 ┆ 0.0          │\n",
      "│ Ἑκάβη         ┆ 5             ┆ 4            ┆ 0            ┆ 0.555556 ┆ 0.444444 ┆ 0.0          │\n",
      "│ Ἱππόλυτος     ┆ 5             ┆ 5            ┆ 0            ┆ 0.5      ┆ 0.5      ┆ 0.0          │\n",
      "│ Τρῳάδες       ┆ 3             ┆ 8            ┆ 0            ┆ 0.272727 ┆ 0.727273 ┆ 0.0          │\n",
      "│ Ἀνδρομάχη     ┆ 3             ┆ 9            ┆ 0            ┆ 0.25     ┆ 0.75     ┆ 0.0          │\n",
      "└───────────────┴───────────────┴──────────────┴──────────────┴──────────┴──────────┴──────────────┘\n"
     ]
    }
   ],
   "source": [
    "euripides_personae = n_personae_by_dramatist_and_gender(\"Euripides\")\n",
    "\n",
    "print(euripides_personae)"
   ]
  }
 ],
 "metadata": {
  "kernelspec": {
   "display_name": ".venv",
   "language": "python",
   "name": "python3"
  },
  "language_info": {
   "codemirror_mode": {
    "name": "ipython",
    "version": 3
   },
   "file_extension": ".py",
   "mimetype": "text/x-python",
   "name": "python",
   "nbconvert_exporter": "python",
   "pygments_lexer": "ipython3",
   "version": "3.12.7"
  }
 },
 "nbformat": 4,
 "nbformat_minor": 2
}
