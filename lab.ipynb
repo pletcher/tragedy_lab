{
 "cells": [
  {
   "cell_type": "code",
   "execution_count": 1,
   "metadata": {},
   "outputs": [
    {
     "name": "stdout",
     "output_type": "stream",
     "text": [
      "Requirement already satisfied: lxml in ./.venv/lib/python3.12/site-packages (5.3.0)\n",
      "Requirement already satisfied: polars in ./.venv/lib/python3.12/site-packages (1.15.0)\n",
      "\n",
      "\u001b[1m[\u001b[0m\u001b[34;49mnotice\u001b[0m\u001b[1;39;49m]\u001b[0m\u001b[39;49m A new release of pip is available: \u001b[0m\u001b[31;49m24.0\u001b[0m\u001b[39;49m -> \u001b[0m\u001b[32;49m24.3.1\u001b[0m\n",
      "\u001b[1m[\u001b[0m\u001b[34;49mnotice\u001b[0m\u001b[1;39;49m]\u001b[0m\u001b[39;49m To update, run: \u001b[0m\u001b[32;49m/Users/pletcher/code/writing/articles/2024-11-28_tragedy-dfs/.venv/bin/python -m pip install --upgrade pip\u001b[0m\n",
      "Note: you may need to restart the kernel to use updated packages.\n"
     ]
    }
   ],
   "source": [
    "%pip install lxml polars"
   ]
  },
  {
   "cell_type": "code",
   "execution_count": 4,
   "metadata": {},
   "outputs": [
    {
     "data": {
      "text/html": [
       "<div><style>\n",
       ".dataframe > thead > tr,\n",
       ".dataframe > tbody > tr {\n",
       "  text-align: right;\n",
       "  white-space: pre-wrap;\n",
       "}\n",
       "</style>\n",
       "<small>shape: (44_378, 7)</small><table border=\"1\" class=\"dataframe\"><thead><tr><th>n</th><th>urn</th><th>dramatist</th><th>title</th><th>speaker</th><th>text</th><th>tokens</th></tr><tr><td>str</td><td>str</td><td>str</td><td>str</td><td>str</td><td>str</td><td>list[str]</td></tr></thead><tbody><tr><td>&quot;1&quot;</td><td>&quot;urn:cts:greekLit:tlg0006.tlg01…</td><td>&quot;Euripides&quot;</td><td>&quot;Ἰφιγένεια ἐν Ταύροις&quot;</td><td>&quot;Ἰφιγένεια&quot;</td><td>&quot;Πέλοψ ὁ Ταντάλειος ἐς Πῖσαν μο…</td><td>[&quot;πελοψ&quot;, &quot;ο&quot;, … &quot;μολων&quot;]</td></tr><tr><td>&quot;2&quot;</td><td>&quot;urn:cts:greekLit:tlg0006.tlg01…</td><td>&quot;Euripides&quot;</td><td>&quot;Ἰφιγένεια ἐν Ταύροις&quot;</td><td>&quot;Ἰφιγένεια&quot;</td><td>&quot;θοαῖσιν ἵπποις Οἰνομάου γαμεῖ …</td><td>[&quot;θοαισιν&quot;, &quot;ιπποισ&quot;, … &quot;κορην&quot;]</td></tr><tr><td>&quot;3&quot;</td><td>&quot;urn:cts:greekLit:tlg0006.tlg01…</td><td>&quot;Euripides&quot;</td><td>&quot;Ἰφιγένεια ἐν Ταύροις&quot;</td><td>&quot;Ἰφιγένεια&quot;</td><td>&quot;ἐξ ἧς Ἀτρεὺς ἔβλαστεν· Ἀτρέως …</td><td>[&quot;εξ&quot;, &quot;ησ&quot;, … &quot;παισ&quot;]</td></tr><tr><td>&quot;4&quot;</td><td>&quot;urn:cts:greekLit:tlg0006.tlg01…</td><td>&quot;Euripides&quot;</td><td>&quot;Ἰφιγένεια ἐν Ταύροις&quot;</td><td>&quot;Ἰφιγένεια&quot;</td><td>&quot;Μενέλαος Ἀγαμέμνων τε· τοῦ δʼ …</td><td>[&quot;μενελαοσ&quot;, &quot;αγαμεμνων&quot;, … &quot;εγω&quot;]</td></tr><tr><td>&quot;5&quot;</td><td>&quot;urn:cts:greekLit:tlg0006.tlg01…</td><td>&quot;Euripides&quot;</td><td>&quot;Ἰφιγένεια ἐν Ταύροις&quot;</td><td>&quot;Ἰφιγένεια&quot;</td><td>&quot;τῆς Τυνδαρείας θυγατρὸς Ἰφιγέν…</td><td>[&quot;τησ&quot;, &quot;τυνδαρειασ&quot;, … &quot;παισ&quot;]</td></tr><tr><td>&hellip;</td><td>&hellip;</td><td>&hellip;</td><td>&hellip;</td><td>&hellip;</td><td>&hellip;</td><td>&hellip;</td></tr><tr><td>&quot;1526&quot;</td><td>&quot;urn:cts:greekLit:tlg0011.tlg00…</td><td>&quot;Sophocles&quot;</td><td>&quot;Οἰδίπους Τύραννος&quot;</td><td>&quot;Χορός&quot;</td><td>&quot;οὗ τίς οὐ ζήλῳ πολιτῶν ἦν τύχα…</td><td>[&quot;ου&quot;, &quot;τισ&quot;, … &quot;επιβλεπων&quot;]</td></tr><tr><td>&quot;1527&quot;</td><td>&quot;urn:cts:greekLit:tlg0011.tlg00…</td><td>&quot;Sophocles&quot;</td><td>&quot;Οἰδίπους Τύραννος&quot;</td><td>&quot;Χορός&quot;</td><td>&quot;εἰς ὅσον κλύδωνα δεινῆς συμφορ…</td><td>[&quot;εισ&quot;, &quot;οσον&quot;, … &quot;εληλυθεν&quot;]</td></tr><tr><td>&quot;1528&quot;</td><td>&quot;urn:cts:greekLit:tlg0011.tlg00…</td><td>&quot;Sophocles&quot;</td><td>&quot;Οἰδίπους Τύραννος&quot;</td><td>&quot;Χορός&quot;</td><td>&quot;ὥστε θνητὸν ὄντα κείνην τὴν τε…</td><td>[&quot;ωστε&quot;, &quot;θνητον&quot;, … &quot;ιδειν&quot;]</td></tr><tr><td>&quot;1529&quot;</td><td>&quot;urn:cts:greekLit:tlg0011.tlg00…</td><td>&quot;Sophocles&quot;</td><td>&quot;Οἰδίπους Τύραννος&quot;</td><td>&quot;Χορός&quot;</td><td>&quot;ἡμέραν ἐπισκοποῦντα μηδένʼ ὀλβ…</td><td>[&quot;ημεραν&quot;, &quot;επισκοπουντα&quot;, … &quot;αν&quot;]</td></tr><tr><td>&quot;1530&quot;</td><td>&quot;urn:cts:greekLit:tlg0011.tlg00…</td><td>&quot;Sophocles&quot;</td><td>&quot;Οἰδίπους Τύραννος&quot;</td><td>&quot;Χορός&quot;</td><td>&quot;τέρμα τοῦ βίου περάσῃ&nbsp;&nbsp;μηδὲν ἀ…</td><td>[&quot;τερμα&quot;, &quot;του&quot;, … &quot;παθων&quot;]</td></tr></tbody></table></div>"
      ],
      "text/plain": [
       "shape: (44_378, 7)\n",
       "┌──────┬────────────────┬───────────┬────────────────┬───────────┬────────────────┬────────────────┐\n",
       "│ n    ┆ urn            ┆ dramatist ┆ title          ┆ speaker   ┆ text           ┆ tokens         │\n",
       "│ ---  ┆ ---            ┆ ---       ┆ ---            ┆ ---       ┆ ---            ┆ ---            │\n",
       "│ str  ┆ str            ┆ str       ┆ str            ┆ str       ┆ str            ┆ list[str]      │\n",
       "╞══════╪════════════════╪═══════════╪════════════════╪═══════════╪════════════════╪════════════════╡\n",
       "│ 1    ┆ urn:cts:greekL ┆ Euripides ┆ Ἰφιγένεια ἐν   ┆ Ἰφιγένεια ┆ Πέλοψ ὁ        ┆ [\"πελοψ\", \"ο\", │\n",
       "│      ┆ it:tlg0006.tlg ┆           ┆ Ταύροις        ┆           ┆ Ταντάλειος ἐς  ┆ … \"μολων\"]     │\n",
       "│      ┆ 01…            ┆           ┆                ┆           ┆ Πῖσαν μο…      ┆                │\n",
       "│ 2    ┆ urn:cts:greekL ┆ Euripides ┆ Ἰφιγένεια ἐν   ┆ Ἰφιγένεια ┆ θοαῖσιν ἵπποις ┆ [\"θοαισιν\",    │\n",
       "│      ┆ it:tlg0006.tlg ┆           ┆ Ταύροις        ┆           ┆ Οἰνομάου γαμεῖ ┆ \"ιπποισ\", …    │\n",
       "│      ┆ 01…            ┆           ┆                ┆           ┆ …              ┆ \"κορην…        │\n",
       "│ 3    ┆ urn:cts:greekL ┆ Euripides ┆ Ἰφιγένεια ἐν   ┆ Ἰφιγένεια ┆ ἐξ ἧς Ἀτρεὺς   ┆ [\"εξ\", \"ησ\", … │\n",
       "│      ┆ it:tlg0006.tlg ┆           ┆ Ταύροις        ┆           ┆ ἔβλαστεν·      ┆ \"παισ\"]        │\n",
       "│      ┆ 01…            ┆           ┆                ┆           ┆ Ἀτρέως …       ┆                │\n",
       "│ 4    ┆ urn:cts:greekL ┆ Euripides ┆ Ἰφιγένεια ἐν   ┆ Ἰφιγένεια ┆ Μενέλαος       ┆ [\"μενελαοσ\",   │\n",
       "│      ┆ it:tlg0006.tlg ┆           ┆ Ταύροις        ┆           ┆ Ἀγαμέμνων τε·  ┆ \"αγαμεμνων\", … │\n",
       "│      ┆ 01…            ┆           ┆                ┆           ┆ τοῦ δʼ …       ┆ \"ε…            │\n",
       "│ 5    ┆ urn:cts:greekL ┆ Euripides ┆ Ἰφιγένεια ἐν   ┆ Ἰφιγένεια ┆ τῆς Τυνδαρείας ┆ [\"τησ\",        │\n",
       "│      ┆ it:tlg0006.tlg ┆           ┆ Ταύροις        ┆           ┆ θυγατρὸς       ┆ \"τυνδαρειασ\",  │\n",
       "│      ┆ 01…            ┆           ┆                ┆           ┆ Ἰφιγέν…        ┆ … \"παισ\"…      │\n",
       "│ …    ┆ …              ┆ …         ┆ …              ┆ …         ┆ …              ┆ …              │\n",
       "│ 1526 ┆ urn:cts:greekL ┆ Sophocles ┆ Οἰδίπους       ┆ Χορός     ┆ οὗ τίς οὐ ζήλῳ ┆ [\"ου\", \"τισ\",  │\n",
       "│      ┆ it:tlg0011.tlg ┆           ┆ Τύραννος       ┆           ┆ πολιτῶν ἦν     ┆ … \"επιβλεπων\"] │\n",
       "│      ┆ 00…            ┆           ┆                ┆           ┆ τύχα…          ┆                │\n",
       "│ 1527 ┆ urn:cts:greekL ┆ Sophocles ┆ Οἰδίπους       ┆ Χορός     ┆ εἰς ὅσον       ┆ [\"εισ\",        │\n",
       "│      ┆ it:tlg0011.tlg ┆           ┆ Τύραννος       ┆           ┆ κλύδωνα δεινῆς ┆ \"οσον\", …      │\n",
       "│      ┆ 00…            ┆           ┆                ┆           ┆ συμφορ…        ┆ \"εληλυθεν\"]    │\n",
       "│ 1528 ┆ urn:cts:greekL ┆ Sophocles ┆ Οἰδίπους       ┆ Χορός     ┆ ὥστε θνητὸν    ┆ [\"ωστε\",       │\n",
       "│      ┆ it:tlg0011.tlg ┆           ┆ Τύραννος       ┆           ┆ ὄντα κείνην    ┆ \"θνητον\", …    │\n",
       "│      ┆ 00…            ┆           ┆                ┆           ┆ τὴν τε…        ┆ \"ιδειν\"]       │\n",
       "│ 1529 ┆ urn:cts:greekL ┆ Sophocles ┆ Οἰδίπους       ┆ Χορός     ┆ ἡμέραν         ┆ [\"ημεραν\", \"επ │\n",
       "│      ┆ it:tlg0011.tlg ┆           ┆ Τύραννος       ┆           ┆ ἐπισκοποῦντα   ┆ ισκοπουντα\", … │\n",
       "│      ┆ 00…            ┆           ┆                ┆           ┆ μηδένʼ ὀλβ…    ┆ \"…             │\n",
       "│ 1530 ┆ urn:cts:greekL ┆ Sophocles ┆ Οἰδίπους       ┆ Χορός     ┆ τέρμα τοῦ βίου ┆ [\"τερμα\",      │\n",
       "│      ┆ it:tlg0011.tlg ┆           ┆ Τύραννος       ┆           ┆ περάσῃ  μηδὲν  ┆ \"του\", …       │\n",
       "│      ┆ 00…            ┆           ┆                ┆           ┆ ἀ…             ┆ \"παθων\"]       │\n",
       "└──────┴────────────────┴───────────┴────────────────┴───────────┴────────────────┴────────────────┘"
      ]
     },
     "execution_count": 4,
     "metadata": {},
     "output_type": "execute_result"
    }
   ],
   "source": [
    "import polars as pl\n",
    "\n",
    "df = pl.read_parquet(\"./greek-tragedy-by-line.parquet\")\n",
    "df"
   ]
  },
  {
   "cell_type": "code",
   "execution_count": 5,
   "metadata": {},
   "outputs": [
    {
     "name": "stdout",
     "output_type": "stream",
     "text": [
      "shape: (33, 5)\n",
      "┌───────────┬──────────────────────┬─────────┬──────────┬──────────┐\n",
      "│ dramatist ┆ title                ┆ n_types ┆ n_tokens ┆ ttr      │\n",
      "│ ---       ┆ ---                  ┆ ---     ┆ ---      ┆ ---      │\n",
      "│ str       ┆ str                  ┆ u32     ┆ u32      ┆ f64      │\n",
      "╞═══════════╪══════════════════════╪═════════╪══════════╪══════════╡\n",
      "│ Sophocles ┆ Οἰδίπους Τύραννος    ┆ 3694    ┆ 9293     ┆ 0.397503 │\n",
      "│ Sophocles ┆ Οἰδίπους ἐπὶ Κολωνῷ  ┆ 4158    ┆ 10398    ┆ 0.399885 │\n",
      "│ Sophocles ┆ Φιλοκτήτης           ┆ 3537    ┆ 8824     ┆ 0.400839 │\n",
      "│ Sophocles ┆ Ἠλέκτρα              ┆ 3628    ┆ 8700     ┆ 0.417011 │\n",
      "│ Euripides ┆ Ὀρέστης              ┆ 4178    ┆ 9865     ┆ 0.423517 │\n",
      "│ Euripides ┆ Ἰφιγένεια ἐν Αὐλίδι  ┆ 3951    ┆ 9205     ┆ 0.429223 │\n",
      "│ Euripides ┆ Ἑλένη                ┆ 4223    ┆ 9787     ┆ 0.431491 │\n",
      "│ Euripides ┆ Ἴων                  ┆ 4027    ┆ 9219     ┆ 0.436815 │\n",
      "│ Euripides ┆ Ἡρακλεῖδαι           ┆ 2737    ┆ 6160     ┆ 0.444318 │\n",
      "│ Euripides ┆ Μήδεια               ┆ 3516    ┆ 7891     ┆ 0.445571 │\n",
      "│ Euripides ┆ Ἱππόλυτος            ┆ 3650    ┆ 8110     ┆ 0.450062 │\n",
      "│ Euripides ┆ Φοίνισσαι            ┆ 4375    ┆ 9703     ┆ 0.450891 │\n",
      "│ Euripides ┆ Ἰφιγένεια ἐν Ταύροις ┆ 3774    ┆ 8362     ┆ 0.451327 │\n",
      "│ Sophocles ┆ Αἴας                 ┆ 3582    ┆ 7887     ┆ 0.454165 │\n",
      "│ Euripides ┆ Ἀνδρομάχη            ┆ 3334    ┆ 7175     ┆ 0.464669 │\n",
      "│ Euripides ┆ Ἑκάβη                ┆ 3343    ┆ 7192     ┆ 0.464822 │\n",
      "│ Euripides ┆ Ἄλκηστις             ┆ 3043    ┆ 6541     ┆ 0.465219 │\n",
      "│ Euripides ┆ Ἡρακλῆς              ┆ 3686    ┆ 7844     ┆ 0.469913 │\n",
      "│ Sophocles ┆ Τραχίνιαι            ┆ 3429    ┆ 7290     ┆ 0.47037  │\n",
      "│ Sophocles ┆ Ἀντιγόνη             ┆ 3462    ┆ 7357     ┆ 0.470572 │\n",
      "│ Euripides ┆ Ἠλέκτρα              ┆ 3612    ┆ 7663     ┆ 0.471356 │\n",
      "│ Euripides ┆ Ἱκέτιδες             ┆ 3321    ┆ 7021     ┆ 0.47301  │\n",
      "│ Euripides ┆ Βάκχαι               ┆ 3648    ┆ 7546     ┆ 0.483435 │\n",
      "│ Euripides ┆ Τρῳάδες              ┆ 3522    ┆ 7117     ┆ 0.494871 │\n",
      "│ Euripides ┆ Ῥῆσος                ┆ 2801    ┆ 5454     ┆ 0.513568 │\n",
      "│ Aeschylus ┆ Εὐμενίδες            ┆ 2611    ┆ 5067     ┆ 0.515295 │\n",
      "│ Aeschylus ┆ Ἀγαμέμνων            ┆ 4004    ┆ 7727     ┆ 0.518183 │\n",
      "│ Aeschylus ┆ Προμηθεὺς δεσμώτης   ┆ 2993    ┆ 5722     ┆ 0.523069 │\n",
      "│ Aeschylus ┆ Χοηφóρoι             ┆ 2737    ┆ 5025     ┆ 0.544677 │\n",
      "│ Euripides ┆ Κύκλωψ               ┆ 2204    ┆ 4021     ┆ 0.548122 │\n",
      "│ Aeschylus ┆ Πέρσαι               ┆ 2819    ┆ 5044     ┆ 0.558882 │\n",
      "│ Aeschylus ┆ Ἑπτὰ ἐπὶ Θήβας       ┆ 2810    ┆ 4951     ┆ 0.567562 │\n",
      "│ Aeschylus ┆ Ἱκέτιδες             ┆ 2491    ┆ 4306     ┆ 0.578495 │\n",
      "└───────────┴──────────────────────┴─────────┴──────────┴──────────┘\n",
      "shape: (3, 2)\n",
      "┌───────────┬──────────┐\n",
      "│ dramatist ┆ avg_ttr  │\n",
      "│ ---       ┆ ---      │\n",
      "│ str       ┆ f64      │\n",
      "╞═══════════╪══════════╡\n",
      "│ Sophocles ┆ 0.430049 │\n",
      "│ Euripides ┆ 0.4638   │\n",
      "│ Aeschylus ┆ 0.543738 │\n",
      "└───────────┴──────────┘\n"
     ]
    }
   ],
   "source": [
    "with pl.Config(tbl_rows=-1):\n",
    "    res = (\n",
    "        df.filter(pl.col(\"title\") != \"Ichneutae\")\n",
    "        .group_by(\"dramatist\", \"title\")\n",
    "        .agg(pl.col(\"tokens\").explode())\n",
    "        .select(\n",
    "            \"dramatist\",\n",
    "            \"title\",\n",
    "            n_types=pl.col(\"tokens\").list.n_unique(),\n",
    "            n_tokens=pl.col(\"tokens\").list.len(),\n",
    "            ttr=(pl.col(\"tokens\").list.n_unique() / pl.col(\"tokens\").list.len()),\n",
    "        )\n",
    "        .sort(\"ttr\")\n",
    "    )\n",
    "\n",
    "    print(res)\n",
    "\n",
    "    avgs = (\n",
    "        res.group_by(\"dramatist\")\n",
    "        .agg(pl.col(\"ttr\").mean().alias(\"avg_ttr\"))\n",
    "        .select(\"dramatist\", \"avg_ttr\")\n",
    "        .sort(\"avg_ttr\")\n",
    "    )\n",
    "\n",
    "    print(avgs)"
   ]
  }
 ],
 "metadata": {
  "kernelspec": {
   "display_name": ".venv",
   "language": "python",
   "name": "python3"
  },
  "language_info": {
   "codemirror_mode": {
    "name": "ipython",
    "version": 3
   },
   "file_extension": ".py",
   "mimetype": "text/x-python",
   "name": "python",
   "nbconvert_exporter": "python",
   "pygments_lexer": "ipython3",
   "version": "3.12.7"
  }
 },
 "nbformat": 4,
 "nbformat_minor": 2
}
