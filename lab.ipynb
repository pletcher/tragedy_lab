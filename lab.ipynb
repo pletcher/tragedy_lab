{
 "cells": [
  {
   "cell_type": "code",
   "execution_count": 1,
   "metadata": {},
   "outputs": [
    {
     "name": "stdout",
     "output_type": "stream",
     "text": [
      "Requirement already satisfied: lxml in ./.venv/lib/python3.12/site-packages (5.3.0)\n",
      "Requirement already satisfied: polars in ./.venv/lib/python3.12/site-packages (1.15.0)\n",
      "\n",
      "\u001b[1m[\u001b[0m\u001b[34;49mnotice\u001b[0m\u001b[1;39;49m]\u001b[0m\u001b[39;49m A new release of pip is available: \u001b[0m\u001b[31;49m24.0\u001b[0m\u001b[39;49m -> \u001b[0m\u001b[32;49m24.3.1\u001b[0m\n",
      "\u001b[1m[\u001b[0m\u001b[34;49mnotice\u001b[0m\u001b[1;39;49m]\u001b[0m\u001b[39;49m To update, run: \u001b[0m\u001b[32;49m/Users/pletcher/code/writing/articles/2024-11-28_tragedy-dfs/.venv/bin/python -m pip install --upgrade pip\u001b[0m\n",
      "Note: you may need to restart the kernel to use updated packages.\n"
     ]
    }
   ],
   "source": [
    "%pip install lxml polars"
   ]
  },
  {
   "cell_type": "code",
   "execution_count": 1,
   "metadata": {},
   "outputs": [
    {
     "data": {
      "text/html": [
       "<div><style>\n",
       ".dataframe > thead > tr,\n",
       ".dataframe > tbody > tr {\n",
       "  text-align: right;\n",
       "  white-space: pre-wrap;\n",
       "}\n",
       "</style>\n",
       "<small>shape: (44_378, 7)</small><table border=\"1\" class=\"dataframe\"><thead><tr><th>n</th><th>urn</th><th>dramatist</th><th>title</th><th>speaker</th><th>text</th><th>tokens</th></tr><tr><td>str</td><td>str</td><td>str</td><td>str</td><td>str</td><td>str</td><td>list[str]</td></tr></thead><tbody><tr><td>&quot;1&quot;</td><td>&quot;urn:cts:greekLit:tlg0006.tlg01…</td><td>&quot;Euripides&quot;</td><td>&quot;Ἰφιγένεια ἐν Ταύροις&quot;</td><td>&quot;Ἰφιγένεια&quot;</td><td>&quot;Πέλοψ ὁ Ταντάλειος ἐς Πῖσαν μο…</td><td>[&quot;πελοψ&quot;, &quot;ο&quot;, … &quot;μολων&quot;]</td></tr><tr><td>&quot;2&quot;</td><td>&quot;urn:cts:greekLit:tlg0006.tlg01…</td><td>&quot;Euripides&quot;</td><td>&quot;Ἰφιγένεια ἐν Ταύροις&quot;</td><td>&quot;Ἰφιγένεια&quot;</td><td>&quot;θοαῖσιν ἵπποις Οἰνομάου γαμεῖ …</td><td>[&quot;θοαισιν&quot;, &quot;ιπποισ&quot;, … &quot;κορην&quot;]</td></tr><tr><td>&quot;3&quot;</td><td>&quot;urn:cts:greekLit:tlg0006.tlg01…</td><td>&quot;Euripides&quot;</td><td>&quot;Ἰφιγένεια ἐν Ταύροις&quot;</td><td>&quot;Ἰφιγένεια&quot;</td><td>&quot;ἐξ ἧς Ἀτρεὺς ἔβλαστεν· Ἀτρέως …</td><td>[&quot;εξ&quot;, &quot;ησ&quot;, … &quot;παισ&quot;]</td></tr><tr><td>&quot;4&quot;</td><td>&quot;urn:cts:greekLit:tlg0006.tlg01…</td><td>&quot;Euripides&quot;</td><td>&quot;Ἰφιγένεια ἐν Ταύροις&quot;</td><td>&quot;Ἰφιγένεια&quot;</td><td>&quot;Μενέλαος Ἀγαμέμνων τε· τοῦ δʼ …</td><td>[&quot;μενελαοσ&quot;, &quot;αγαμεμνων&quot;, … &quot;εγω&quot;]</td></tr><tr><td>&quot;5&quot;</td><td>&quot;urn:cts:greekLit:tlg0006.tlg01…</td><td>&quot;Euripides&quot;</td><td>&quot;Ἰφιγένεια ἐν Ταύροις&quot;</td><td>&quot;Ἰφιγένεια&quot;</td><td>&quot;τῆς Τυνδαρείας θυγατρὸς Ἰφιγέν…</td><td>[&quot;τησ&quot;, &quot;τυνδαρειασ&quot;, … &quot;παισ&quot;]</td></tr><tr><td>&hellip;</td><td>&hellip;</td><td>&hellip;</td><td>&hellip;</td><td>&hellip;</td><td>&hellip;</td><td>&hellip;</td></tr><tr><td>&quot;1526&quot;</td><td>&quot;urn:cts:greekLit:tlg0011.tlg00…</td><td>&quot;Sophocles&quot;</td><td>&quot;Οἰδίπους Τύραννος&quot;</td><td>&quot;Χορός&quot;</td><td>&quot;οὗ τίς οὐ ζήλῳ πολιτῶν ἦν τύχα…</td><td>[&quot;ου&quot;, &quot;τισ&quot;, … &quot;επιβλεπων&quot;]</td></tr><tr><td>&quot;1527&quot;</td><td>&quot;urn:cts:greekLit:tlg0011.tlg00…</td><td>&quot;Sophocles&quot;</td><td>&quot;Οἰδίπους Τύραννος&quot;</td><td>&quot;Χορός&quot;</td><td>&quot;εἰς ὅσον κλύδωνα δεινῆς συμφορ…</td><td>[&quot;εισ&quot;, &quot;οσον&quot;, … &quot;εληλυθεν&quot;]</td></tr><tr><td>&quot;1528&quot;</td><td>&quot;urn:cts:greekLit:tlg0011.tlg00…</td><td>&quot;Sophocles&quot;</td><td>&quot;Οἰδίπους Τύραννος&quot;</td><td>&quot;Χορός&quot;</td><td>&quot;ὥστε θνητὸν ὄντα κείνην τὴν τε…</td><td>[&quot;ωστε&quot;, &quot;θνητον&quot;, … &quot;ιδειν&quot;]</td></tr><tr><td>&quot;1529&quot;</td><td>&quot;urn:cts:greekLit:tlg0011.tlg00…</td><td>&quot;Sophocles&quot;</td><td>&quot;Οἰδίπους Τύραννος&quot;</td><td>&quot;Χορός&quot;</td><td>&quot;ἡμέραν ἐπισκοποῦντα μηδένʼ ὀλβ…</td><td>[&quot;ημεραν&quot;, &quot;επισκοπουντα&quot;, … &quot;αν&quot;]</td></tr><tr><td>&quot;1530&quot;</td><td>&quot;urn:cts:greekLit:tlg0011.tlg00…</td><td>&quot;Sophocles&quot;</td><td>&quot;Οἰδίπους Τύραννος&quot;</td><td>&quot;Χορός&quot;</td><td>&quot;τέρμα τοῦ βίου περάσῃ&nbsp;&nbsp;μηδὲν ἀ…</td><td>[&quot;τερμα&quot;, &quot;του&quot;, … &quot;παθων&quot;]</td></tr></tbody></table></div>"
      ],
      "text/plain": [
       "shape: (44_378, 7)\n",
       "┌──────┬────────────────┬───────────┬────────────────┬───────────┬────────────────┬────────────────┐\n",
       "│ n    ┆ urn            ┆ dramatist ┆ title          ┆ speaker   ┆ text           ┆ tokens         │\n",
       "│ ---  ┆ ---            ┆ ---       ┆ ---            ┆ ---       ┆ ---            ┆ ---            │\n",
       "│ str  ┆ str            ┆ str       ┆ str            ┆ str       ┆ str            ┆ list[str]      │\n",
       "╞══════╪════════════════╪═══════════╪════════════════╪═══════════╪════════════════╪════════════════╡\n",
       "│ 1    ┆ urn:cts:greekL ┆ Euripides ┆ Ἰφιγένεια ἐν   ┆ Ἰφιγένεια ┆ Πέλοψ ὁ        ┆ [\"πελοψ\", \"ο\", │\n",
       "│      ┆ it:tlg0006.tlg ┆           ┆ Ταύροις        ┆           ┆ Ταντάλειος ἐς  ┆ … \"μολων\"]     │\n",
       "│      ┆ 01…            ┆           ┆                ┆           ┆ Πῖσαν μο…      ┆                │\n",
       "│ 2    ┆ urn:cts:greekL ┆ Euripides ┆ Ἰφιγένεια ἐν   ┆ Ἰφιγένεια ┆ θοαῖσιν ἵπποις ┆ [\"θοαισιν\",    │\n",
       "│      ┆ it:tlg0006.tlg ┆           ┆ Ταύροις        ┆           ┆ Οἰνομάου γαμεῖ ┆ \"ιπποισ\", …    │\n",
       "│      ┆ 01…            ┆           ┆                ┆           ┆ …              ┆ \"κορην…        │\n",
       "│ 3    ┆ urn:cts:greekL ┆ Euripides ┆ Ἰφιγένεια ἐν   ┆ Ἰφιγένεια ┆ ἐξ ἧς Ἀτρεὺς   ┆ [\"εξ\", \"ησ\", … │\n",
       "│      ┆ it:tlg0006.tlg ┆           ┆ Ταύροις        ┆           ┆ ἔβλαστεν·      ┆ \"παισ\"]        │\n",
       "│      ┆ 01…            ┆           ┆                ┆           ┆ Ἀτρέως …       ┆                │\n",
       "│ 4    ┆ urn:cts:greekL ┆ Euripides ┆ Ἰφιγένεια ἐν   ┆ Ἰφιγένεια ┆ Μενέλαος       ┆ [\"μενελαοσ\",   │\n",
       "│      ┆ it:tlg0006.tlg ┆           ┆ Ταύροις        ┆           ┆ Ἀγαμέμνων τε·  ┆ \"αγαμεμνων\", … │\n",
       "│      ┆ 01…            ┆           ┆                ┆           ┆ τοῦ δʼ …       ┆ \"ε…            │\n",
       "│ 5    ┆ urn:cts:greekL ┆ Euripides ┆ Ἰφιγένεια ἐν   ┆ Ἰφιγένεια ┆ τῆς Τυνδαρείας ┆ [\"τησ\",        │\n",
       "│      ┆ it:tlg0006.tlg ┆           ┆ Ταύροις        ┆           ┆ θυγατρὸς       ┆ \"τυνδαρειασ\",  │\n",
       "│      ┆ 01…            ┆           ┆                ┆           ┆ Ἰφιγέν…        ┆ … \"παισ\"…      │\n",
       "│ …    ┆ …              ┆ …         ┆ …              ┆ …         ┆ …              ┆ …              │\n",
       "│ 1526 ┆ urn:cts:greekL ┆ Sophocles ┆ Οἰδίπους       ┆ Χορός     ┆ οὗ τίς οὐ ζήλῳ ┆ [\"ου\", \"τισ\",  │\n",
       "│      ┆ it:tlg0011.tlg ┆           ┆ Τύραννος       ┆           ┆ πολιτῶν ἦν     ┆ … \"επιβλεπων\"] │\n",
       "│      ┆ 00…            ┆           ┆                ┆           ┆ τύχα…          ┆                │\n",
       "│ 1527 ┆ urn:cts:greekL ┆ Sophocles ┆ Οἰδίπους       ┆ Χορός     ┆ εἰς ὅσον       ┆ [\"εισ\",        │\n",
       "│      ┆ it:tlg0011.tlg ┆           ┆ Τύραννος       ┆           ┆ κλύδωνα δεινῆς ┆ \"οσον\", …      │\n",
       "│      ┆ 00…            ┆           ┆                ┆           ┆ συμφορ…        ┆ \"εληλυθεν\"]    │\n",
       "│ 1528 ┆ urn:cts:greekL ┆ Sophocles ┆ Οἰδίπους       ┆ Χορός     ┆ ὥστε θνητὸν    ┆ [\"ωστε\",       │\n",
       "│      ┆ it:tlg0011.tlg ┆           ┆ Τύραννος       ┆           ┆ ὄντα κείνην    ┆ \"θνητον\", …    │\n",
       "│      ┆ 00…            ┆           ┆                ┆           ┆ τὴν τε…        ┆ \"ιδειν\"]       │\n",
       "│ 1529 ┆ urn:cts:greekL ┆ Sophocles ┆ Οἰδίπους       ┆ Χορός     ┆ ἡμέραν         ┆ [\"ημεραν\", \"επ │\n",
       "│      ┆ it:tlg0011.tlg ┆           ┆ Τύραννος       ┆           ┆ ἐπισκοποῦντα   ┆ ισκοπουντα\", … │\n",
       "│      ┆ 00…            ┆           ┆                ┆           ┆ μηδένʼ ὀλβ…    ┆ \"…             │\n",
       "│ 1530 ┆ urn:cts:greekL ┆ Sophocles ┆ Οἰδίπους       ┆ Χορός     ┆ τέρμα τοῦ βίου ┆ [\"τερμα\",      │\n",
       "│      ┆ it:tlg0011.tlg ┆           ┆ Τύραννος       ┆           ┆ περάσῃ  μηδὲν  ┆ \"του\", …       │\n",
       "│      ┆ 00…            ┆           ┆                ┆           ┆ ἀ…             ┆ \"παθων\"]       │\n",
       "└──────┴────────────────┴───────────┴────────────────┴───────────┴────────────────┴────────────────┘"
      ]
     },
     "execution_count": 1,
     "metadata": {},
     "output_type": "execute_result"
    }
   ],
   "source": [
    "import polars as pl\n",
    "\n",
    "df = pl.read_parquet(\"./greek-tragedy-by-line.parquet\")\n",
    "df"
   ]
  },
  {
   "cell_type": "code",
   "execution_count": 8,
   "metadata": {},
   "outputs": [],
   "source": [
    "def ttr_by_play():\n",
    "    with pl.Config(tbl_rows=-1):\n",
    "        res = (\n",
    "            df.group_by(\"dramatist\", \"title\")\n",
    "            .agg(pl.col(\"tokens\").explode())\n",
    "            .select(\n",
    "                \"dramatist\",\n",
    "                \"title\",\n",
    "                n_types=pl.col(\"tokens\").list.n_unique(),\n",
    "                n_tokens=pl.col(\"tokens\").list.len(),\n",
    "                ttr=(pl.col(\"tokens\").list.n_unique() / pl.col(\"tokens\").list.len()),\n",
    "            )\n",
    "            .sort(\"ttr\")\n",
    "        )\n",
    "\n",
    "        return res\n",
    "    \n",
    "def ttr_by_dramatist():\n",
    "    res = ttr_by_play()\n",
    "    avgs = (\n",
    "        res.group_by(\"dramatist\")\n",
    "        .agg(pl.col(\"ttr\").mean().alias(\"avg_ttr\"))\n",
    "        .select(\"dramatist\", \"avg_ttr\")\n",
    "        .sort(\"avg_ttr\")\n",
    "    )\n",
    "\n",
    "    return avgs"
   ]
  },
  {
   "cell_type": "code",
   "execution_count": null,
   "metadata": {},
   "outputs": [
    {
     "name": "stdout",
     "output_type": "stream",
     "text": [
      "shape: (34, 3)\n",
      "┌───────────┬──────────────────────┬─────────────────────────────────┐\n",
      "│ dramatist ┆ title                ┆ speaker                         │\n",
      "│ ---       ┆ ---                  ┆ ---                             │\n",
      "│ str       ┆ str                  ┆ list[str]                       │\n",
      "╞═══════════╪══════════════════════╪═════════════════════════════════╡\n",
      "│ Aeschylus ┆ Ἑπτὰ ἐπὶ Θήβας       ┆ [\"Ἡμιχόριον Α\", \"Ἄγγελος\", … \"… │\n",
      "│ Euripides ┆ Ἰφιγένεια ἐν Ταύροις ┆ [\"Ὀρέστης\", \"Βουκόλος\", … \"Χορ… │\n",
      "│ Euripides ┆ Ὀρέστης              ┆ [\"Πυλάδης\", \"Χορός\", … \"Ὀρέστη… │\n",
      "│ Euripides ┆ Ἱκέτιδες             ┆ [\"Παῖδες\", \"Ἄδραστος\", … \"Αἴθρ… │\n",
      "│ Euripides ┆ Βάκχαι               ┆ [\"Διονυσος\", \"Ἄγγελος\", … \"Ἀγα… │\n",
      "│ …         ┆ …                    ┆ …                               │\n",
      "│ Sophocles ┆ Οἰδίπους Τύραννος    ┆ [\"Ἄγγελος\", \"Κρέων\", … \"Χορός\"… │\n",
      "│ Aeschylus ┆ Χοηφóρoι             ┆ [\"Τροφός\", \"Αἴγισθος\", … \"Ὀρέσ… │\n",
      "│ Sophocles ┆ Οἰδίπους ἐπὶ Κολωνῷ  ┆ [\"Ξένος\", \"Κρέων\", … \"Ἰσμήνη\"]  │\n",
      "│ Sophocles ┆ Τραχίνιαι            ┆ [\"Λίχας\", \"Ἡμιχόριον\", … \"Ἡρακ… │\n",
      "│ Sophocles ┆ Αἴας                 ┆ [\"Ὀδυσσεύς\", \"Αἴας\", … \"Ἡμιχόρ… │\n",
      "└───────────┴──────────────────────┴─────────────────────────────────┘\n"
     ]
    }
   ],
   "source": [
    "def write_speakers_by_dramatist_and_play():\n",
    "    drama_speakers = (\n",
    "        df.select(\"dramatist\", \"title\", \"speaker\")\n",
    "        .group_by(\"dramatist\", \"title\")\n",
    "        .agg(pl.col(\"speaker\").unique())\n",
    "    )\n",
    "\n",
    "    with open(\"speakers.csv\", \"w+\") as f:\n",
    "        f.write(\"dramatist,title,speaker,gender\\n\")\n",
    "\n",
    "        for dramatist, title, speakers in drama_speakers.iter_rows():\n",
    "            for speaker in speakers:\n",
    "                f.write(f\"{dramatist},{title},{speaker},\\n\")"
   ]
  }
 ],
 "metadata": {
  "kernelspec": {
   "display_name": ".venv",
   "language": "python",
   "name": "python3"
  },
  "language_info": {
   "codemirror_mode": {
    "name": "ipython",
    "version": 3
   },
   "file_extension": ".py",
   "mimetype": "text/x-python",
   "name": "python",
   "nbconvert_exporter": "python",
   "pygments_lexer": "ipython3",
   "version": "3.12.7"
  }
 },
 "nbformat": 4,
 "nbformat_minor": 2
}
